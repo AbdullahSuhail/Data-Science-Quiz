{
 "cells": [
  {
   "cell_type": "code",
   "execution_count": 6,
   "id": "9dc65a09-979c-4e41-81a7-9ae806162ace",
   "metadata": {},
   "outputs": [],
   "source": [
    "## Ques1 What is Statistics \n",
    "\n",
    "## Answer1 - Statistics is the study of number and finding pattern and analysizing and organizing it  \n"
   ]
  },
  {
   "cell_type": "code",
   "execution_count": 2,
   "id": "e2218479-d471-4287-b806-971029b6ea81",
   "metadata": {},
   "outputs": [],
   "source": [
    "# Ques2 Define the different types of statistics and give an example of when each type might be used.\n",
    "\n",
    "## Answer2 Descriptive statistics= It consist of organizing and summarizing the data \n",
    "            # ex -  finding avg weight \n",
    "    \n",
    "       # Influential statistics = It consist of using the data you have to measure to fomr conclusions \n",
    "          #ex - finding if avg weight can represnnt the whole class weight \n",
    "            \n",
    "            \n",
    "            "
   ]
  },
  {
   "cell_type": "code",
   "execution_count": null,
   "id": "8d5c2a37-0cc1-45e6-92be-45c9dd8e38d2",
   "metadata": {},
   "outputs": [],
   "source": [
    "#Ques3 What are the different types of data and how do they differ from each other? Provide an example of\n",
    "# each type of data.\n",
    "\n",
    "# Answer3 =  There are two types of data \n",
    "\n",
    "#        1) Quantitative  = These are having numeric value it futher divided into two part \n",
    "                          # discrete which only contain whole number \n",
    "                          # continous which contain all numbers \n",
    "#             example - speed,no of cars,height   etc      \n",
    "        \n",
    "        \n",
    "#       2)Quanlitaive  = THese are having categorical type of data \n",
    "                     \n",
    "              # exampple - color , gender etc\n",
    "\n"
   ]
  },
  {
   "cell_type": "code",
   "execution_count": 3,
   "id": "a1f0ba75-c5e6-46f5-ab4d-a177edbaf919",
   "metadata": {},
   "outputs": [],
   "source": [
    "#Ques4 Categorise the following datasets with respect to quantitative and qualitative data types:\n",
    "      # (i)  Grading in exam: A+, A, B+, B, C+, C, D, E\n",
    "         # Answer = Quanlitative \n",
    "        \n",
    "      # (ii) Colour of mangoes: yellow, green, orange, red\n",
    "         #Answer= Quanlitaive\n",
    "        \n",
    "     # (iii) Height data of a class: [178.9, 179, 179.5, 176, 177.2, 178.3, 175.8,...]\n",
    "       # Answer = Quantitative \n",
    "        \n",
    "        \n",
    "     # (iv) Number of mangoes exported by a farm: [500, 600, 478, 672, ...]\n",
    "      # Answer = Quantitative"
   ]
  },
  {
   "cell_type": "code",
   "execution_count": 5,
   "id": "e07457fa-e5d0-4b45-b3d8-4573cd780b06",
   "metadata": {},
   "outputs": [],
   "source": [
    "# Q5. Explain the concept of levels of measurement and give an example of a variable for each level.\n",
    "\n",
    "#Answer Levels of measurement helps us in categorizing the in similar type for better analysis \n",
    "        # Nominal - color\n",
    "        # Ordinal -ranking in test  \n",
    "        # Interval -Temperture \n",
    "        # Ratio marks in test"
   ]
  },
  {
   "cell_type": "code",
   "execution_count": 7,
   "id": "3029c835-4d86-46e5-b985-9605bf3361b2",
   "metadata": {},
   "outputs": [],
   "source": [
    "# Q6. Why is it important to understand the level of measurement when analyzing data? Provide an\n",
    "# example to illustrate your answer.\n",
    "\n",
    "#Answer Level of measurement helps in categorizing the data which helps in better analysis and conclusion as we can \n",
    "#          choose which type of statistcis could be applied for better results \n",
    "\n",
    "\n",
    "\n",
    "\n",
    "\n",
    "# incomplete\n",
    "\n",
    "# "
   ]
  },
  {
   "cell_type": "code",
   "execution_count": 8,
   "id": "e37bfb63-8782-4580-bbce-cc15c74020ba",
   "metadata": {},
   "outputs": [],
   "source": [
    "# Q7. How nominal data type is different from ordinal data type.\n",
    "\n",
    "#Answer7= In normial data type the Order to data set does not matter while in ordinal data types the order and ranking matters "
   ]
  },
  {
   "cell_type": "code",
   "execution_count": 9,
   "id": "7a1eef53-d171-4ba2-9232-7e5b1e51a2e2",
   "metadata": {},
   "outputs": [],
   "source": [
    "#Q8. Which type of plot can be used to display data in terms of range?\n",
    "\n",
    "#Answer = Histogram"
   ]
  },
  {
   "cell_type": "code",
   "execution_count": 10,
   "id": "6bd86a22-f3a9-4b8e-9c2e-a69464434074",
   "metadata": {},
   "outputs": [],
   "source": [
    "#Q9 Q9. Describe the difference between descriptive and inferential statistics. Give an example of each\n",
    "# type of statistics and explain how they are used.\n",
    "\n",
    "# Answer = Descriptive show us the data and facts while inferential makes prediction on that data \n",
    "\n",
    "#       example of discriptive stats is finding height of student \n",
    "#       example of inferential stas is finding that does the av gof studnet is similar to whole school "
   ]
  },
  {
   "cell_type": "code",
   "execution_count": null,
   "id": "ebfec829-5b7c-4cbb-a836-7addef6b7e65",
   "metadata": {},
   "outputs": [],
   "source": [
    "#Ques10 What are some common measures of central tendency and variability used in statistics? Explain\n",
    "# how each measure can be used to describe a dataset.\n",
    "\n",
    "# Answer10-  Common measure of central tendency are \n",
    "#           1. Mean= it gives us the average of the data sets \n",
    "#           2. Median= it gives us the middle most value from data sets \n",
    "          # 3.Mode= it gives us the value which is most repeating in data set or value with highest frequency \n",
    "            "
   ]
  }
 ],
 "metadata": {
  "kernelspec": {
   "display_name": "Python 3 (ipykernel)",
   "language": "python",
   "name": "python3"
  },
  "language_info": {
   "codemirror_mode": {
    "name": "ipython",
    "version": 3
   },
   "file_extension": ".py",
   "mimetype": "text/x-python",
   "name": "python",
   "nbconvert_exporter": "python",
   "pygments_lexer": "ipython3",
   "version": "3.10.8"
  }
 },
 "nbformat": 4,
 "nbformat_minor": 5
}
