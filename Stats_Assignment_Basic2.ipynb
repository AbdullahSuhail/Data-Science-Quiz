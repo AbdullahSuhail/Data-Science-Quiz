{
 "cells": [
  {
   "cell_type": "code",
   "execution_count": null,
   "id": "66a3c5a5-9b1d-4109-97b4-34894806bc09",
   "metadata": {},
   "outputs": [],
   "source": [
    "## Q1. What are the three measures of central tendency?\n",
    "\n",
    "#Answer - The 3 measure of central tendency are \n",
    "      # 1.Mean \n",
    "      # 2.Median \n",
    "      # 3.Mode"
   ]
  },
  {
   "cell_type": "code",
   "execution_count": null,
   "id": "06b87069-12eb-4621-88e9-b63e602d98c1",
   "metadata": {},
   "outputs": [],
   "source": [
    "## Q2. What is the difference between the mean, median, and mode? How are they used to measure the \n",
    "# central tendency of a dataset\n",
    "\n",
    "#Answer -  Mean = Mean is the sum of all the given data values divided by the total number of data values given in the set.\n",
    "#          Median = The median is the middle point in a dataset\n",
    "         # Mode = Mode is value that has most frequency in dataset"
   ]
  },
  {
   "cell_type": "code",
   "execution_count": 5,
   "id": "f0d87781-c191-4bee-8e9a-ae8021d59be5",
   "metadata": {},
   "outputs": [],
   "source": [
    "## Q3 Q3. Measure the three measures of central tendency for the given height data:\n",
    "\n",
    " # [178,177,176,177,178.2,178,175,179,180,175,178.9,176.2,177,172.5,178,176.5]\n",
    "\n",
    "from scipy import stats    \n",
    "import numpy as np  \n",
    "data=[178,177,176,177,178.2,178,175,179,180,175,178.9,176.2,177,172.5,178,176.5]\n",
    "\n",
    "\n",
    "mean=np.mean(data)\n",
    "# mode=stats.mode(data)\n",
    "median=np.median(data)\n",
    "\n"
   ]
  },
  {
   "cell_type": "code",
   "execution_count": 6,
   "id": "71ee366e-62c1-4404-868e-8b57971b7f7b",
   "metadata": {},
   "outputs": [
    {
     "data": {
      "text/plain": [
       "177.01875"
      ]
     },
     "execution_count": 6,
     "metadata": {},
     "output_type": "execute_result"
    }
   ],
   "source": [
    "mean"
   ]
  },
  {
   "cell_type": "code",
   "execution_count": 7,
   "id": "0e780da3-5b55-48e4-8c9d-5f55ee784498",
   "metadata": {},
   "outputs": [
    {
     "data": {
      "text/plain": [
       "177.0"
      ]
     },
     "execution_count": 7,
     "metadata": {},
     "output_type": "execute_result"
    }
   ],
   "source": [
    "median"
   ]
  },
  {
   "cell_type": "code",
   "execution_count": 13,
   "id": "bc054472-46a9-4139-a4b1-52ad62fad273",
   "metadata": {},
   "outputs": [
    {
     "name": "stderr",
     "output_type": "stream",
     "text": [
      "/tmp/ipykernel_119/508020538.py:1: FutureWarning: Unlike other reduction functions (e.g. `skew`, `kurtosis`), the default behavior of `mode` typically preserves the axis it acts along. In SciPy 1.11.0, this behavior will change: the default value of `keepdims` will become False, the `axis` over which the statistic is taken will be eliminated, and the value None will no longer be accepted. Set `keepdims` to True or False to avoid this warning.\n",
      "  stats.mode(data)\n"
     ]
    },
    {
     "data": {
      "text/plain": [
       "ModeResult(mode=array([177.]), count=array([3]))"
      ]
     },
     "execution_count": 13,
     "metadata": {},
     "output_type": "execute_result"
    }
   ],
   "source": [
    "stats.mode(data)\n"
   ]
  },
  {
   "cell_type": "code",
   "execution_count": 9,
   "id": "8456ec47-8108-404c-8796-7dc6343e08e7",
   "metadata": {},
   "outputs": [
    {
     "data": {
      "text/plain": [
       "1.7885814036548633"
      ]
     },
     "execution_count": 9,
     "metadata": {},
     "output_type": "execute_result"
    }
   ],
   "source": [
    "# Q4. Find the standard deviation for the given data:\n",
    "\n",
    "# [178,177,176,177,178.2,178,175,179,180,175,178.9,176.2,177,172.5,178,176.5]\n",
    "import numpy as np\n",
    "data1=[178,177,176,177,178.2,178,175,179,180,175,178.9,176.2,177,172.5,178,176.5]\n",
    "\n",
    "\n",
    "np.std(data1)"
   ]
  },
  {
   "cell_type": "code",
   "execution_count": 12,
   "id": "b11c175e-09d3-4fdb-b57e-492087ad5a7b",
   "metadata": {},
   "outputs": [],
   "source": [
    "# Q5. How are measures of dispersion such as range, variance, and standard deviation used to describe \n",
    "# the spread of a dataset? Provide an example.\n",
    "\n",
    "# Answer \n",
    "#   Range = Range is the difference between the largest and the smallest values of datasets \n",
    "#   Variance = Variance is the spread in dataset \n",
    "#   Standard Deviation =  Standard Deviation is the deviation of the data from the mean value of the data.\n",
    "\n",
    "\n",
    "\n",
    "# data5=[1,2,3,4,5,6]\n",
    "\n",
    "#   Range=(6-1)=5 \n",
    "# variance = 2.9166666666666665\n",
    "\n",
    "#standard deviation = 1.707825127659933\n",
    "\n",
    "\n",
    "\n"
   ]
  },
  {
   "cell_type": "code",
   "execution_count": 3,
   "id": "747a5e79-5b86-41e0-bd96-7fd3aebbb1f6",
   "metadata": {},
   "outputs": [],
   "source": [
    "# Q6. What is a Venn diagram?\n",
    "\n",
    "# Answer = Venn diagram is visual representation of our data in circle for show relation between them \n"
   ]
  },
  {
   "cell_type": "code",
   "execution_count": 4,
   "id": "d3db2271-b0d8-415c-8313-5b18f875081c",
   "metadata": {},
   "outputs": [],
   "source": [
    "# Q7. For the two given sets A = (2,3,4,5,6,7) & B = (0,2,6,8,10). Find:\n",
    "\n",
    "# (i) A∩ B\n",
    "\n",
    "# (ii)\tA ⋃ B\n",
    "\n",
    "# Answer  1) (2,6)\n",
    "\n",
    "        # 2) (2,3,4,5,6,7,0,8,10)"
   ]
  },
  {
   "cell_type": "code",
   "execution_count": 5,
   "id": "e5bc79a6-f2bd-4ef9-9c74-b53293cd2d18",
   "metadata": {},
   "outputs": [],
   "source": [
    "# Q8. What do you understand about skewness in data\n",
    "\n",
    "# Answer Skewness is the measure of how much mean is moving away from the mode"
   ]
  },
  {
   "cell_type": "code",
   "execution_count": 6,
   "id": "f9f3f60a-ccc4-48c0-af14-db2eb4e2f805",
   "metadata": {},
   "outputs": [],
   "source": [
    "# Q9. If a data is right skewed then what will be the position of median with respect to mean?\n",
    "\n",
    "#Answer In Right Skewed data MEAN > MEDIAN \n",
    "        # In graph Median is left side of Mean "
   ]
  },
  {
   "cell_type": "code",
   "execution_count": 1,
   "id": "bf17cbbe-4e83-4b39-89dd-b763e623324e",
   "metadata": {},
   "outputs": [],
   "source": [
    "# Q10. Explain the difference between covariance and correlation. How are these measures used in \n",
    "# statistical analysis?\n",
    "\n",
    "# Answer  Covariance shows us the relationship between two variable \n",
    "          # Correlation it show how much two variable are related to each other \n",
    "    "
   ]
  },
  {
   "cell_type": "code",
   "execution_count": 2,
   "id": "97552b87-f987-4957-b9b8-a2fad3c7ce5d",
   "metadata": {},
   "outputs": [],
   "source": [
    "# Q11. What is the formula for calculating the sample mean? Provide an example calculation for a \n",
    "# dataset.\n",
    "\n",
    "# Answer  Sum of all the data in sample dataset divided by number of dataset in sample dataset \n",
    "\n",
    "# example -  dataset1=[1,2,3,4,5]\n",
    "       # sample data=[1,2,3]\n",
    "    \n",
    "    # sample mean = (1+2+3)/3 \n",
    "     \n",
    "    # sample mean =2 \n"
   ]
  },
  {
   "cell_type": "code",
   "execution_count": 3,
   "id": "56c726bf-0b6f-4360-bb0a-9b05cfedcfdb",
   "metadata": {},
   "outputs": [],
   "source": [
    "# Q12. For a normal distribution data what is the relationship between its measure of central tendency?\n",
    "\n",
    "# Answer = 2 MEAN= 3 MEDIAN - MODE "
   ]
  },
  {
   "cell_type": "code",
   "execution_count": 4,
   "id": "96702750-3273-49b8-b176-326905e6963b",
   "metadata": {},
   "outputs": [],
   "source": [
    "# Q13. How is covariance different from correlation?\n",
    "\n",
    "# Covariance tell us the relation between two variable while correlation tell us how much they are related to each other"
   ]
  },
  {
   "cell_type": "code",
   "execution_count": null,
   "id": "52f616a9-578c-43e2-92d6-2ecc88e888fd",
   "metadata": {},
   "outputs": [],
   "source": [
    "# Q14. How do outliers affect measures of central tendency and dispersion? Provide an example\n",
    "\n",
    "# Answer    Central Tendency \n",
    "            # Mean = Outlier greatly increase or decreases the mean \n",
    "            # Median  = Median is least affected by outlier \n",
    "            #Mode = Mode are not affect by outlier unless the appear multiple times \n",
    "            \n",
    "            \n",
    "            # Dispersion \n",
    "            \n",
    "            # Standard Deviation /Variance increases with outlier "
   ]
  }
 ],
 "metadata": {
  "kernelspec": {
   "display_name": "Python 3 (ipykernel)",
   "language": "python",
   "name": "python3"
  },
  "language_info": {
   "codemirror_mode": {
    "name": "ipython",
    "version": 3
   },
   "file_extension": ".py",
   "mimetype": "text/x-python",
   "name": "python",
   "nbconvert_exporter": "python",
   "pygments_lexer": "ipython3",
   "version": "3.10.8"
  }
 },
 "nbformat": 4,
 "nbformat_minor": 5
}
