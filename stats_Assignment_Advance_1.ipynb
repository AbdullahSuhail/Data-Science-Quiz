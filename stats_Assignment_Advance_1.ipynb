{
 "cells": [
  {
   "cell_type": "markdown",
   "id": "ae4daa61-ed0b-4ef8-973d-32ed8c295de8",
   "metadata": {},
   "source": [
    "# 08 March "
   ]
  },
  {
   "cell_type": "code",
   "execution_count": 1,
   "id": "2fc897c5-90b7-4d33-9a5d-39ad78348f5a",
   "metadata": {},
   "outputs": [],
   "source": [
    "# Q1. What is the Probability density function?\n",
    "\n",
    "# Answer1 It is a distribution of continious data which shows the probability of event to occur."
   ]
  },
  {
   "cell_type": "code",
   "execution_count": 2,
   "id": "c4a56f2f-ef6c-4267-ab85-8a9882d2d042",
   "metadata": {},
   "outputs": [],
   "source": [
    "# Q2. What are the types of Probability distribution?\n",
    "\n",
    "# Answer2 Types of probability distribution \n",
    "        # 1.Normal distribution\n",
    "        # 2.Uniform distribution\n",
    "        # 3.log normal distribution\n",
    "        # 4.binomial distribution\n",
    "        # 5.Poisson distribution\n",
    "        # 6.Power law distribution\n",
    "        # 7.Bernoulli distribution\n",
    "        "
   ]
  },
  {
   "cell_type": "code",
   "execution_count": 1,
   "id": "4154e96b-52e2-4b1f-bd32-c47a93d5896b",
   "metadata": {},
   "outputs": [],
   "source": [
    "# Q3. Write a Python function to calculate the probability density function of a normal distribution with\n",
    "# given mean and standard deviation at a given point.\n",
    "\n",
    "# Answer3 \n",
    "   \n",
    "# We have the formula\n",
    "\n",
    "# pdf=  (1 / sigma * sq_root(2* pie))* e^(-(x-mean))^2 / 2 sigma^2\n",
    " \n",
    "\n",
    "def pdf_normal(mean,std,x): \n",
    "    \n",
    "    \n",
    "    answer3 = (1 / (std * math.sqrt(2 * math.pi))) * \\  math.exp(-0.5 * ((x - mean) / std)**2)\n",
    "\n",
    "    return answer3\n",
    "    \n",
    "    \n",
    "    "
   ]
  },
  {
   "cell_type": "code",
   "execution_count": 3,
   "id": "53adda95-8c0c-4ace-a169-bac40d77380e",
   "metadata": {},
   "outputs": [],
   "source": [
    "# Q4. What are the properties of Binomial distribution? Give two examples of events where binomial\n",
    "# distribution can be applied.\n",
    "\n",
    "# Answer4  \n",
    "          # Properties \n",
    "          # 1. It have boolean outcome either True or False\n",
    "          # 2 We perform the assignment n times \n",
    "# example \n",
    "     # 1.Tossing of coin\n",
    "     # 2.Student passing or failing exam "
   ]
  },
  {
   "cell_type": "code",
   "execution_count": 22,
   "id": "0d233d02-6dfd-4b4b-9c08-d23df195ec31",
   "metadata": {},
   "outputs": [
    {
     "data": {
      "text/plain": [
       "(array([570.,   0.,   0.,   0.,   0.,   0.,   0.,   0.,   0., 430.]),\n",
       " array([0. , 0.1, 0.2, 0.3, 0.4, 0.5, 0.6, 0.7, 0.8, 0.9, 1. ]),\n",
       " <BarContainer object of 10 artists>)"
      ]
     },
     "execution_count": 22,
     "metadata": {},
     "output_type": "execute_result"
    },
    {
     "data": {
      "image/png": "[encoded data removed]",
      "text/plain": [
       "<Figure size 640x480 with 1 Axes>"
      ]
     },
     "metadata": {},
     "output_type": "display_data"
    }
   ],
   "source": [
    "# Q5. Generate a random sample of size 1000 from a binomial distribution with probability of success 0.4\n",
    "# and plot a histogram of the results using matplotlib.\n",
    "\n",
    "# Answer5\n",
    "import numpy as np \n",
    "import matplotlib.pyplot as plt\n",
    "n=1000\n",
    "data5=np.random.binomial(1,0.4,n)\n",
    "\n",
    "plt.hist(data)"
   ]
  },
  {
   "cell_type": "code",
   "execution_count": 7,
   "id": "235e8998-d6d9-4f3e-af40-d3aa266ddee4",
   "metadata": {},
   "outputs": [],
   "source": [
    "# Q6. Write a Python function to calculate the cumulative distribution function of a Poisson distribution\n",
    "# with given mean at a given point.\n",
    "\n",
    "# Answer6\n",
    "\n",
    "#WE have the  Formula \n",
    "\n",
    "# PMF=   {(lamda^x)*(e^(-lamda))}  / x!\n",
    "\n",
    "# CMF is sum of PMFs\n",
    "\n",
    "def cumulative(mean, point):\n",
    "    answer = 0\n",
    "    for i in range(point):\n",
    "        answer =answer+  (mean ** i)*math.exp(-mean) / math.factorial(i)\n",
    "\n",
    "    return answer"
   ]
  },
  {
   "cell_type": "code",
   "execution_count": 8,
   "id": "2eeaf13d-8732-4fe9-96d3-653aa2b7eca3",
   "metadata": {},
   "outputs": [],
   "source": [
    "# Q7. How Binomial distribution different from Poisson distribution?\n",
    "\n",
    "# Answer7  Binomial distribution is applicable when we have a fixed number of independent and identical trials\n",
    "# while in Poisson distribution we have variable number of events in a fixed interval of time or space"
   ]
  },
  {
   "cell_type": "code",
   "execution_count": 26,
   "id": "7cfab911-a3a0-4ae5-8c9a-0c5735bd000d",
   "metadata": {},
   "outputs": [
    {
     "name": "stdout",
     "output_type": "stream",
     "text": [
      "The sample mean is 5.12 \n",
      "The sample variance is 4.8136\n"
     ]
    }
   ],
   "source": [
    "# Q8. Generate a random sample of size 1000 from a Poisson distribution with mean 5 and calculate the\n",
    "# sample mean and variance.\n",
    "\n",
    "\n",
    "import numpy as np\n",
    "size=1000\n",
    "mean=5\n",
    "data8=np.random.poisson(mean,size)\n",
    "\n",
    "sample_mean=np.mean(data8)\n",
    "sample_variance=np.var(data8)\n",
    "\n",
    "print(f\"The sample mean is {sample_mean} \")\n",
    "print(f\"The sample variance is {sample_variance}\")"
   ]
  },
  {
   "cell_type": "code",
   "execution_count": 9,
   "id": "79063e78-b99e-49ea-a094-4722ac7187b8",
   "metadata": {},
   "outputs": [],
   "source": [
    "# Q9. How mean and variance are related in Binomial distribution and Poisson distribution?\n",
    "\n",
    "# Answer9 In Binomial distribution mean is greater then variance \n",
    "        # In poisson distribution mean is equal to variance "
   ]
  },
  {
   "cell_type": "code",
   "execution_count": 10,
   "id": "21840d27-0a17-4986-9728-f2403b0b79fa",
   "metadata": {},
   "outputs": [],
   "source": [
    "# Q10. In normal distribution with respect to mean position, where does the least frequent data appear?\n",
    "\n",
    "# Answer10 At the extreme (end point ) of graph "
   ]
  },
  {
   "cell_type": "code",
   "execution_count": null,
   "id": "58162b62-1407-4983-90fb-0983b04c2d3a",
   "metadata": {},
   "outputs": [],
   "source": []
  }
 ],
 "metadata": {
  "kernelspec": {
   "display_name": "Python 3 (ipykernel)",
   "language": "python",
   "name": "python3"
  },
  "language_info": {
   "codemirror_mode": {
    "name": "ipython",
    "version": 3
   },
   "file_extension": ".py",
   "mimetype": "text/x-python",
   "name": "python",
   "nbconvert_exporter": "python",
   "pygments_lexer": "ipython3",
   "version": "3.10.8"
  }
 },
 "nbformat": 4,
 "nbformat_minor": 5
}
