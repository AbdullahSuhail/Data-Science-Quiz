{
 "cells": [
  {
   "cell_type": "markdown",
   "id": "1cb554f9-a016-4fb4-8515-a8453e9f5ef9",
   "metadata": {},
   "source": [
    "# MODULE 46 / 9TH  march"
   ]
  },
  {
   "cell_type": "code",
   "execution_count": 2,
   "id": "a3c07356-9bb7-42d6-ab15-d7c137cf82fb",
   "metadata": {},
   "outputs": [],
   "source": [
    "# Q1: What are the Probability Mass Function (PMF) and Probability Density Function (PDF)? Explain with\n",
    "# an example.\n",
    "\n",
    "# Answer- PMF is used when we want check the distribution of discrete random variable \n",
    "     # ex- tossing of coin , rolling of dice \n",
    "\n",
    "\n",
    "   # PDF is used when we want check the distribution of continuous random variable \n",
    "#    ex- Weight , Height of person etc"
   ]
  },
  {
   "cell_type": "code",
   "execution_count": 3,
   "id": "6928b030-5705-4327-9924-fdb7d90175b8",
   "metadata": {},
   "outputs": [],
   "source": [
    "# Q2: What is Cumulative Density Function (CDF)? Explain with an example. Why CDF is used?\n",
    "    # Answer- CDF is the sum of the probabilties of every outcome consecutively\n",
    "    # Cumulative distribution functions are  for comparing two distributions"
   ]
  },
  {
   "cell_type": "code",
   "execution_count": 1,
   "id": "1a114f33-5ebe-40c7-b6a4-c98e313c8739",
   "metadata": {},
   "outputs": [],
   "source": [
    "# Q3: What are some examples of situations where the normal distribution might be used as a model?\n",
    "# Explain how the parameters of the normal distribution relate to the shape of the distribution.\n",
    "\n",
    "# Answer- Normal distribution can be used indata of height,weight of people \n",
    "\n",
    "    # Parameter relation to distribution\n",
    "       #  If the mean is increased, the distribution shifts to the right, and if it is decreased, the distribution shifts to the left\n",
    "       # The standard deviation  measures the spread  of the data around the mean.A larger standard deviation \n",
    "       # resulting in a wider and flatter distribution a smaller standard deviation indicates less variability\n",
    "       # resulting in a narrower and taller distribution "
   ]
  },
  {
   "cell_type": "code",
   "execution_count": 1,
   "id": "219387a8-87ae-4664-b0c5-ff6731c426bc",
   "metadata": {},
   "outputs": [],
   "source": [
    "# Q4: Explain the importance of Normal Distribution. Give a few real-life examples of Normal\n",
    "# Distribution.\n",
    "\n",
    "# Answer-  NOrmal distribition is importance because of its natural occurance in nature\n",
    "\n",
    "\n",
    "#   example-Height,weight of people ,income of people etc"
   ]
  },
  {
   "cell_type": "code",
   "execution_count": 2,
   "id": "766bf4a3-1450-422b-8532-1d876ca5747e",
   "metadata": {},
   "outputs": [],
   "source": [
    "# Q5: What is Bernaulli Distribution? Give an Example. What is the difference between Bernoulli\n",
    "# Distribution and Binomial Distribution?\n",
    "\n",
    "# Answer- The Bernoulli distribution is a discrete probability distribution that describes a random \n",
    "#         experiment with only two possible outcomes: success and failure\n",
    "#         ex - tossing of coin 10 times with exactly 5 times head\n",
    "#         if in binomial distribution the number of trail is one then is called bernaulli distribution "
   ]
  },
  {
   "cell_type": "code",
   "execution_count": 3,
   "id": "a71dffee-c8d2-41b8-b3ee-f47b34121afe",
   "metadata": {},
   "outputs": [],
   "source": [
    "# Q6. Consider a dataset with a mean of 50 and a standard deviation of 10. If we assume that the dataset\n",
    "# is normally distributed, what is the probability that a randomly selected observation will be greater\n",
    "# than 60? Use the appropriate formula and show your calculations.\n",
    "\n",
    "# Answer Mean =50 \n",
    "        # standard deviation = 10 \n",
    "        # we find the zscore = (x-mean)/standard deviation \n",
    "        # x=60 \n",
    "        # then\n",
    "        # zscore=(60-50)/10\n",
    "#         zscore=1 \n",
    "# we find the corresponding probability from ztable we get  0.1587.\n",
    "# so for dataset greater then 60 \n",
    "# 1- 0.1587  =0.8413 \n",
    "# 84.13 % answer"
   ]
  },
  {
   "cell_type": "code",
   "execution_count": 4,
   "id": "923a038f-215c-4d2e-b9f5-886d54280a56",
   "metadata": {},
   "outputs": [],
   "source": [
    "# Q7: Explain uniform Distribution with an example\n",
    "\n",
    " # In uniform distribution every outcome have same probability of occuring within a range it is also called rectangle distribution\n",
    "    # ex - Tossing of coin(unbiased)"
   ]
  },
  {
   "cell_type": "code",
   "execution_count": 5,
   "id": "c1b3c164-9ad8-4039-a813-324bfa62f72f",
   "metadata": {},
   "outputs": [],
   "source": [
    "# Q8: What is the z score? State the importance of the z score.\n",
    "\n",
    " #Ans8- z score is how many standard deviation aways is datapoint from mean \n",
    "       # z-score transform the data in standard scale allowing the comparison among dataset to be easy"
   ]
  },
  {
   "cell_type": "code",
   "execution_count": 6,
   "id": "4733e59e-81b1-418d-9c1b-4b8b99d96351",
   "metadata": {},
   "outputs": [],
   "source": [
    "# Q9: What is Central Limit Theorem? State the significance of the Central Limit Theorem.\n",
    "\n",
    "# Answer - It say that sampling distribution of mean will always be normally distributed \n",
    "#           This property allows us to normal distribution  for the sampling distribution of the mean making  calculations simpler."
   ]
  },
  {
   "cell_type": "code",
   "execution_count": 8,
   "id": "49d31801-a342-4465-9bff-07d01e48b48b",
   "metadata": {},
   "outputs": [],
   "source": [
    "# Q10: State the assumptions of the Central Limit Theorem\n",
    "\n",
    "   # Answer Large sample size\n",
    "            #THe random variblr should have finite variance\n",
    "        # The random variable should be independent of each other"
   ]
  },
  {
   "cell_type": "code",
   "execution_count": null,
   "id": "ebf73997-e7f6-4bbb-9d9b-6bea71985041",
   "metadata": {},
   "outputs": [],
   "source": []
  }
 ],
 "metadata": {
  "kernelspec": {
   "display_name": "Python 3 (ipykernel)",
   "language": "python",
   "name": "python3"
  },
  "language_info": {
   "codemirror_mode": {
    "name": "ipython",
    "version": 3
   },
   "file_extension": ".py",
   "mimetype": "text/x-python",
   "name": "python",
   "nbconvert_exporter": "python",
   "pygments_lexer": "ipython3",
   "version": "3.10.8"
  }
 },
 "nbformat": 4,
 "nbformat_minor": 5
}
